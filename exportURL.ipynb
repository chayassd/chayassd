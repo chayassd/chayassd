{
 "cells": [
  {
   "cell_type": "code",
   "execution_count": 1,
   "id": "4c5183f6-3f59-4e2c-82d1-3cc169881e98",
   "metadata": {},
   "outputs": [],
   "source": [
    "import cloudinary\n",
    "import cloudinary.uploader\n",
    "import cloudinary.api\n",
    "import pandas as pd"
   ]
  },
  {
   "cell_type": "code",
   "execution_count": null,
   "id": "b686db03-e9e3-4860-a94f-746e4c6175f5",
   "metadata": {},
   "outputs": [],
   "source": [
    "# configure the Cloudinary API credentials\n",
    "cloudinary.config(\n",
    "  cloud_name = \"your cloud_name\",\n",
    "  api_key = \"931694358559939\",\n",
    "  api_secret = \"Xwi59WSv-TEMDv5KEA2oAL5MdIQ\",\n",
    "    secure = True\n",
    ")\n",
    "\n",
    "# define the search criteria to retrieve all images in the Hardgoods folder and its subfolders\n",
    "search_criteria = {\n",
    "    'resource_type': 'image',\n",
    "    'type': 'upload',\n",
    "    'prefix': 'Hardgoods/',\n",
    "    'tags': True,\n",
    "    'max_results': 500,\n",
    "}\n",
    "\n",
    "# retrieve the list of resources that match the search criteria\n",
    "resources = api.resources(**search_criteria)['resources']\n",
    "\n",
    "# extract the public_id, folder name, and URL for each resource\n",
    "data = []\n",
    "for resource in resources:\n",
    "    public_id = resource['public_id']\n",
    "    folder = public_id.split('/')[1] if '/' in public_id else ''\n",
    "    url = cloudinary.utils.cloudinary_url(public_id)[0]\n",
    "    data.append({'public_id': public_id, 'folder': folder, 'url': url})\n",
    "\n",
    "# create a Pandas DataFrame from the extracted data\n",
    "df = pd.DataFrame(data)\n",
    "\n",
    "# export the DataFrame to a CSV file\n",
    "df.to_csv('hardgoods_urls.csv', index=False)"
   ]
  }
 ],
 "metadata": {
  "kernelspec": {
   "display_name": "Python 3 (ipykernel)",
   "language": "python",
   "name": "python3"
  },
  "language_info": {
   "codemirror_mode": {
    "name": "ipython",
    "version": 3
   },
   "file_extension": ".py",
   "mimetype": "text/x-python",
   "name": "python",
   "nbconvert_exporter": "python",
   "pygments_lexer": "ipython3",
   "version": "3.9.13"
  }
 },
 "nbformat": 4,
 "nbformat_minor": 5
}
